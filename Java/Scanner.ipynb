{
 "cells": [
  {
   "cell_type": "markdown",
   "id": "a88ed727-a8b1-4fd1-8aeb-061030cdee77",
   "metadata": {},
   "source": [
    "# Scanner"
   ]
  },
  {
   "cell_type": "markdown",
   "id": "7daa9476-fcfb-4191-8621-ba1ffc2f47ec",
   "metadata": {},
   "source": []
  },
  {
   "cell_type": "code",
   "execution_count": null,
   "id": "16be2634-ef88-4a04-8471-68374b996f74",
   "metadata": {},
   "outputs": [],
   "source": []
  },
  {
   "cell_type": "code",
   "execution_count": null,
   "id": "76eb266b-ed1a-4282-a1e5-2c104706fcb1",
   "metadata": {},
   "outputs": [],
   "source": []
  },
  {
   "cell_type": "code",
   "execution_count": null,
   "id": "b5656276-18f4-4731-a6a2-7c43f990c85c",
   "metadata": {},
   "outputs": [],
   "source": []
  },
  {
   "cell_type": "code",
   "execution_count": null,
   "id": "7e477c99-1c08-47f5-ac44-5e08823bf2bc",
   "metadata": {},
   "outputs": [],
   "source": []
  },
  {
   "cell_type": "code",
   "execution_count": null,
   "id": "ae9c6b22-ccec-4122-bbe2-f3d949efc4ec",
   "metadata": {},
   "outputs": [],
   "source": []
  }
 ],
 "metadata": {
  "kernelspec": {
   "display_name": "Java",
   "language": "java",
   "name": "java"
  },
  "language_info": {
   "codemirror_mode": "java",
   "file_extension": ".jshell",
   "mimetype": "text/x-java-source",
   "name": "Java",
   "pygments_lexer": "java",
   "version": "11.0.23+9-LTS"
  }
 },
 "nbformat": 4,
 "nbformat_minor": 5
}
