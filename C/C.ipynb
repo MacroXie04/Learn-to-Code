{
 "cells": [
  {
   "cell_type": "markdown",
   "metadata": {},
   "source": [
    "# C"
   ]
  },
  {
   "cell_type": "markdown",
   "metadata": {},
   "source": [
    "## Introductory C Language Feature "
   ]
  },
  {
   "cell_type": "markdown",
   "metadata": {},
   "source": [
    "### Data Type in C Language"
   ]
  },
  {
   "cell_type": "code",
   "execution_count": 11,
   "metadata": {},
   "outputs": [
    {
     "name": "stdout",
     "output_type": "stream",
     "text": [
      "10 a 10.500000 10.500000\n",
      "____________________________\n",
      "1 2 3 4 5 6 7 8 9 10 "
     ]
    }
   ],
   "source": [
    "#include <stdio.h>\n",
    "int main(){\n",
    "    // Build-in Data Types\n",
    "\n",
    "    // Basic Data Types\n",
    "    int a = 10;\n",
    "    char b = 'a';\n",
    "    float c = 10.5;\n",
    "    double d = 10.5;\n",
    "    printf(\"%d %c %f %lf\\n\", a, b, c, d);\n",
    "    printf(\"____________________________\\n\");\n",
    "\n",
    "    // Derived Data Types\n",
    "    int arr[10] = {1, 2, 3, 4, 5, 6, 7, 8, 9, 10};\n",
    "    for (int i = 0; i < 10; i++){\n",
    "        printf(\"%d \", arr[i]);\n",
    "    }\n",
    "\n",
    "    // pointer p = &a;\n",
    "    struct s{\n",
    "        int a;\n",
    "        char b;\n",
    "    };\n",
    "    union u{\n",
    "        int a;\n",
    "        char b;\n",
    "    };\n",
    "\n",
    "    // Enumeration Data Types\n",
    "    enum color {RED, GREEN, BLUE};\n",
    "    // enumeration color c1 = RED;\n",
    "    \n",
    "    // Void Data Types\n",
    "    // void v;\n",
    "\n",
    "    return 0;\n",
    "}"
   ]
  },
  {
   "cell_type": "markdown",
   "metadata": {},
   "source": [
    "#### C language bariable, constant, and literals"
   ]
  },
  {
   "cell_type": "markdown",
   "metadata": {},
   "source": [
    "##### Variable\n",
    "> In programming, variables are containers (storage areas) used to store data\n",
    "> To specify storage areas, each variable should be assigned a unique name (identifier). The vaiable name is just a symnolic representation of the storage location."
   ]
  },
  {
   "cell_type": "code",
   "execution_count": 12,
   "metadata": {},
   "outputs": [
    {
     "name": "stdout",
     "output_type": "stream",
     "text": [
      "Value of a is 10\n"
     ]
    }
   ],
   "source": [
    "# include <stdio.h>\n",
    "// Example\n",
    "\n",
    "int main(){\n",
    "    int a = 10;\n",
    "    printf(\"Value of a is %d\\n\", a);\n",
    "    \n",
    "}"
   ]
  },
  {
   "cell_type": "code",
   "execution_count": 13,
   "metadata": {},
   "outputs": [
    {
     "name": "stdout",
     "output_type": "stream",
     "text": [
      "Sum of a and b is 30\n"
     ]
    }
   ],
   "source": [
    "# include <stdio.h>\n",
    "\n",
    "int main(){\n",
    "    int a = 10;\n",
    "    int b = 20;\n",
    "    int c = a + b;\n",
    "    printf(\"Sum of a and b is %d\\n\", c);\n",
    "}"
   ]
  },
  {
   "cell_type": "code",
   "execution_count": 14,
   "metadata": {},
   "outputs": [
    {
     "name": "stdout",
     "output_type": "stream",
     "text": [
      "B\n"
     ]
    }
   ],
   "source": [
    "# include <stdio.h>\n",
    "\n",
    "int main(){\n",
    "    char a = 'A';\n",
    "    a = a + 1;\n",
    "    // The value of a variable can be changed\n",
    "    printf(\"%c\\n\", a);\n",
    "}"
   ]
  },
  {
   "cell_type": "markdown",
   "metadata": {},
   "source": [
    "##### constant\n",
    "> By using const keyword to define constant value, which means the value can not be changed."
   ]
  },
  {
   "cell_type": "code",
   "execution_count": 15,
   "metadata": {},
   "outputs": [
    {
     "name": "stderr",
     "output_type": "stream",
     "text": [
      "/var/folders/tq/4w_9jbcj17qf85r56s8r19p80000gn/T/tmp7lwkmfxp.c:6:7: error: cannot assign to variable 'a' with const-qualified type 'const int'\n",
      "    6 |     a = 20;\n",
      "      |     ~ ^\n",
      "/var/folders/tq/4w_9jbcj17qf85r56s8r19p80000gn/T/tmp7lwkmfxp.c:4:15: note: variable 'a' declared const here\n",
      "    4 |     const int a = 10;\n",
      "      |     ~~~~~~~~~~^~~~~~\n",
      "1 error generated.\n",
      "[C kernel] GCC exited with code 1, the executable will not be executed"
     ]
    }
   ],
   "source": [
    "# include <stdio.h>\n",
    "\n",
    "int main(){\n",
    "    const int a = 10;\n",
    "    // Error: note: variable 'a' declared const here\n",
    "    a = 20;\n",
    "}"
   ]
  },
  {
   "cell_type": "markdown",
   "metadata": {},
   "source": [
    "### Input and Output"
   ]
  },
  {
   "cell_type": "markdown",
   "metadata": {},
   "source": [
    "#### Output"
   ]
  },
  {
   "cell_type": "code",
   "execution_count": 16,
   "metadata": {},
   "outputs": [
    {
     "name": "stdout",
     "output_type": "stream",
     "text": [
      "Hello, World!"
     ]
    }
   ],
   "source": [
    "// To use the printf() function, you need to include the stdio.h header file in your program.\n",
    "#include <stdio.h>\n",
    "\n",
    "// The main() function is the entry point of every C program.\n",
    "int main(){\n",
    "    // The printf() is a library function to send formatted output to the screen.\n",
    "    printf(\"Hello, World!\");\n",
    "\n",
    "    // The return 0; statement is the \"Exit status\" of the program.\n",
    "    return 0;\n",
    "}"
   ]
  },
  {
   "cell_type": "code",
   "execution_count": 17,
   "metadata": {},
   "outputs": [
    {
     "name": "stdout",
     "output_type": "stream",
     "text": [
      "Number = 5\n",
      "Number = 5.000000\n",
      "Number = 5.000000\n",
      "Character = A\n"
     ]
    }
   ],
   "source": [
    "#include <stdio.h>\n",
    "\n",
    "int main(){\n",
    "\n",
    "    // Integer Data Type output\n",
    "    int testInteger = 5;\n",
    "    printf(\"Number = %d\\n\", testInteger);\n",
    "\n",
    "    // Single-precision floating point output\n",
    "    float num = 5.0;\n",
    "    printf(\"Number = %f\\n\", num);\n",
    "\n",
    "    // Double-precision floating point output\n",
    "    double number = 5.0;\n",
    "    printf(\"Number = %lf\\n\", number);\n",
    "\n",
    "    // Character output\n",
    "    char chr = 'A';\n",
    "    printf(\"Character = %c\\n\", chr);\n",
    "\n",
    "    return 0;\n",
    "}"
   ]
  },
  {
   "cell_type": "markdown",
   "metadata": {},
   "source": [
    "#### input"
   ]
  },
  {
   "cell_type": "code",
   "execution_count": 18,
   "metadata": {},
   "outputs": [
    {
     "name": "stdout",
     "output_type": "stream",
     "text": [
      "-234782640"
     ]
    }
   ],
   "source": [
    "#include <stdio.h>\n",
    "\n",
    "int main(){\n",
    "    int testInteger;\n",
    "\n",
    "    // Jupyter environment does not support scanf() function\n",
    "    // scanf(\"%d\", &testInteger);\n",
    "\n",
    "    printf(\"%d\", testInteger);\n",
    "\n",
    "    return 0;\n",
    "\n",
    "}"
   ]
  },
  {
   "cell_type": "code",
   "execution_count": 20,
   "metadata": {},
   "outputs": [
    {
     "name": "stdout",
     "output_type": "stream",
     "text": [
      "Float Number = 0.000000\n",
      "Double Number = 0.000000"
     ]
    }
   ],
   "source": [
    "#include <stdio.h>\n",
    "\n",
    "int main(){\n",
    "\n",
    "    // Declaration of variables\n",
    "    float floatNumber = 0.0000;\n",
    "    double doubleNumber = 0.0000;\n",
    "\n",
    "    // scanf() function is used to read input from the user\n",
    "    // Jupyter environment does not support scanf() function\n",
    "    // scanf(\"%f\", &floatNumber);\n",
    "    // scanf(\"%lf\", &doubleNumber);\n",
    "\n",
    "    printf(\"Float Number = %f\\n\", floatNumber);\n",
    "    printf(\"Double Number = %lf\", doubleNumber);\n",
    "\n",
    "    return 0;\n",
    "\n",
    "}"
   ]
  },
  {
   "cell_type": "code",
   "execution_count": null,
   "metadata": {},
   "outputs": [],
   "source": [
    "#include <stdio.h>\n",
    "\n",
    "int main(){\n",
    "\n",
    "    // Declaration of variables\n",
    "    char chr;\n",
    "    int integer;\n",
    "    float floatNumber;\n",
    "    double doubleNumber;\n",
    "\n",
    "    // Jupyter environment does not support scanf() function\n",
    "    // scanf(\"%c\", &chr);\n",
    "    // scanf(\"%d\", &integer);\n",
    "    // scanf(\"%f\", &floatNumber);\n",
    "    // scanf(\"%lf\", &doubleNumber);\n",
    "\n",
    "    printf(\"Character = %c\\n\", chr);\n",
    "    printf(\"Integer = %d\\n\", integer);\n",
    "    printf(\"Float Number = %f\\n\", floatNumber);\n",
    "    printf(\"Double Number = %lf\", doubleNumber);\n",
    "\n",
    "    return 0;\n",
    "}"
   ]
  },
  {
   "cell_type": "code",
   "execution_count": 21,
   "metadata": {},
   "outputs": [
    {
     "name": "stdout",
     "output_type": "stream",
     "text": [
      "You entered: -234782640, and 0.000000"
     ]
    }
   ],
   "source": [
    "#include <stdio.h>\n",
    "\n",
    "int main(){\n",
    "    \n",
    "    int a;\n",
    "    float b;\n",
    "\n",
    "    // Jupyter environment does not support scanf() function\n",
    "    // accept multiple inputs\n",
    "    // scanf(\"%d%f\", &a, &b);\n",
    "\n",
    "    printf(\"You entered: %d, and %f\", a, b);\n",
    "\n",
    "    return 0;\n",
    "\n",
    "}"
   ]
  },
  {
   "cell_type": "markdown",
   "metadata": {},
   "source": [
    "#### I / O format specifier\n",
    "\n",
    "This is a list of commonly used C data types and their format specifiers.  \n",
    "\n",
    "| **Data type**                | **Format specifier** |\n",
    "|-----------------------------|-------------------|\n",
    "| int                         | %d               |\n",
    "| char                        | %c               |\n",
    "| float                        | %f               |\n",
    "| double                       | %lf              |\n",
    "| short int                    | %hd              |\n",
    "| unsigned int                           | %u               |\n",
    "| long int                            | %li              |\n",
    "| long long int                 | %lli             |\n",
    "| unsigned long int            | %lu              |\n",
    "| unsigned long long int    | %llu             |\n",
    "| signed char                  | %c               |\n",
    "| unsigned char              | %c               |\n",
    "| long double                        | %Lf              |"
   ]
  },
  {
   "cell_type": "markdown",
   "metadata": {},
   "source": [
    "### C Language operators"
   ]
  },
  {
   "cell_type": "markdown",
   "metadata": {},
   "source": [
    "The table below shows all the arithmetic operators supported by the C language.  \n",
    "Suppose variable **A** is 10 and variable **B** is 20:\n",
    "\n",
    "| Operator | Description                                             | Example                |\n",
    "|----------|---------------------------------------------------------|------------------------|\n",
    "| +        | Adds the two operands                                  | A + B → 30             |\n",
    "| -        | Subtracts the second operand from the first operand    | A - B → -10            |\n",
    "| *        | Multiplies the two operands                            | A * B → 200            |\n",
    "| /        | Divides the numerator by the denominator               | B / A → 2              |\n",
    "| %        | Modulus operator, remainder after integer division     | B % A → 0              |\n",
    "| ++       | Increment operator, increases integer value by 1       | A++ → 11               |\n",
    "| --       | Decrement operator, decreases integer value by 1       | A-- → 9                |"
   ]
  },
  {
   "cell_type": "code",
   "execution_count": 28,
   "metadata": {},
   "outputs": [
    {
     "name": "stdout",
     "output_type": "stream",
     "text": [
      "a + b = 30\n",
      "a - b = -10\n",
      "a * b = 200\n",
      "a / b = 0\n",
      "Remainder when a divided by b = 10\n",
      "a++ = 11\n",
      "a-- = 10"
     ]
    }
   ],
   "source": [
    "#include <stdio.h>\n",
    "\n",
    "int main(){\n",
    "\n",
    "    // Initialization of variables\n",
    "    int a = 10;\n",
    "    int b = 20;\n",
    "    int c;\n",
    "\n",
    "    // Addition of two numbers\n",
    "    c = a + b;\n",
    "    printf(\"a + b = %d\\n\", c);\n",
    "    \n",
    "    // Subtraction of two numbers\n",
    "    c = a - b;\n",
    "    printf(\"a - b = %d\\n\", c);\n",
    "\n",
    "    // Multiplication of two numbers\n",
    "    c = a * b;\n",
    "    printf(\"a * b = %d\\n\", c);\n",
    "\n",
    "    // Division of two numbers\n",
    "    c = a / b;\n",
    "    printf(\"a / b = %d\\n\", c);\n",
    "\n",
    "    // Modulus of two numbers\n",
    "    c = a % b;\n",
    "    printf(\"Remainder when a divided by b = %d\\n\", c);\n",
    "\n",
    "    // Add 1 to a\n",
    "    a++;\n",
    "    printf(\"a++ = %d\\n\", a);\n",
    "\n",
    "    // Subtract 1 from a\n",
    "    a--;\n",
    "    printf(\"a-- = %d\", a);\n",
    "\n",
    "    return 0;\n",
    "\n",
    "}"
   ]
  },
  {
   "cell_type": "code",
   "execution_count": 35,
   "metadata": {},
   "outputs": [
    {
     "name": "stdout",
     "output_type": "stream",
     "text": [
      "int c = a++ = 10\n",
      "a = 11\n",
      "____________________________\n",
      "int c = ++a = 11\n",
      "a = 11"
     ]
    }
   ],
   "source": [
    "#include <stdio.h>\n",
    "\n",
    "int main(){\n",
    "\n",
    "    // Initialization of variables\n",
    "    int a = 10;\n",
    "    int b = 20;\n",
    "    int c;\n",
    "\n",
    "    c = a++;\n",
    "    printf(\"int c = a++ = %d\\n\", c);\n",
    "    printf(\"a = %d\\n\", a);\n",
    "\n",
    "    printf(\"____________________________\\n\");\n",
    "\n",
    "    a = 10;\n",
    "\n",
    "    c = ++a;\n",
    "    printf(\"int c = ++a = %d\\n\", a);\n",
    "    printf(\"a = %d\", a);\n",
    "\n",
    "    return 0;\n",
    "}\n"
   ]
  },
  {
   "cell_type": "code",
   "execution_count": null,
   "metadata": {},
   "outputs": [],
   "source": []
  }
 ],
 "metadata": {
  "kernelspec": {
   "display_name": "C",
   "language": "c",
   "name": "c"
  },
  "language_info": {
   "file_extension": ".c",
   "mimetype": "text/plain",
   "name": "c"
  }
 },
 "nbformat": 4,
 "nbformat_minor": 4
}
