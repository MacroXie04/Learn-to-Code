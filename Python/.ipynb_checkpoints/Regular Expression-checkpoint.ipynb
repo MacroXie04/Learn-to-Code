{
 "cells": [
  {
   "attachments": {},
   "cell_type": "markdown",
   "metadata": {
    "collapsed": false
   },
   "source": [
    "# Regular Expression"
   ]
  },
  {
   "attachments": {},
   "cell_type": "markdown",
   "metadata": {
    "collapsed": false
   },
   "source": [
    ">Here's an example of how to use regular expressions in Python to match and extract patterns from text:"
   ]
  },
  {
   "cell_type": "code",
   "execution_count": 4,
   "metadata": {
    "ExecuteTime": {
     "end_time": "2023-06-28T11:48:51.560532Z",
     "start_time": "2023-06-28T11:48:51.549722Z"
    },
    "collapsed": true
   },
   "outputs": [
    {
     "name": "stdout",
     "output_type": "stream",
     "text": [
      "Email addresses:\n",
      "example@email.com\n",
      "\n",
      "Phone numbers:\n",
      "123-456-7890\n"
     ]
    }
   ],
   "source": [
    "import re\n",
    "\n",
    "# Example text\n",
    "text = \"Hello, my email address is example@email.com and my phone number is 123-456-7890.\"\n",
    "\n",
    "# Pattern for matching email addresses\n",
    "email_pattern = r'\\b[A-Za-z0-9._%+-]+@[A-Za-z0-9.-]+\\.[A-Za-z]{2,}\\b'\n",
    "\n",
    "# Pattern for matching phone numbers\n",
    "phone_pattern = r'\\b\\d{3}-\\d{3}-\\d{4}\\b'\n",
    "\n",
    "# Find email addresses in the text\n",
    "emails = re.findall(email_pattern, text)\n",
    "print(\"Email addresses:\")\n",
    "for email in emails:\n",
    "    print(email)\n",
    "\n",
    "# Find phone numbers in the text\n",
    "phone_numbers = re.findall(phone_pattern, text)\n",
    "print(\"\\nPhone numbers:\")\n",
    "for number in phone_numbers:\n",
    "    print(number)"
   ]
  },
  {
   "attachments": {},
   "cell_type": "markdown",
   "metadata": {
    "collapsed": false
   },
   "source": [
    ">In this example, we import the re module, which provides functions for working with regular expressions in Python. We define two patterns: email_pattern for matching email addresses and phone_pattern for matching phone numbers.\n",
    "\n",
    ">We use the re.findall() function to find all occurrences of the patterns in the given text string. The results are stored in emails and phone_numbers lists, respectively.\n",
    "\n",
    ">Finally, we iterate over the lists and print the extracted email addresses and phone numbers.\n",
    "\n",
    ">Note that regular expressions can be more complex depending on the patterns you want to match. This is just a basic example to get you started."
   ]
  },
  {
   "cell_type": "code",
   "execution_count": null,
   "metadata": {
    "collapsed": false
   },
   "outputs": [],
   "source": []
  }
 ],
 "metadata": {
  "kernelspec": {
   "display_name": "Python 3",
   "language": "python",
   "name": "python3"
  },
  "language_info": {
   "codemirror_mode": {
    "name": "ipython",
    "version": 3
   },
   "file_extension": ".py",
   "mimetype": "text/x-python",
   "name": "python",
   "nbconvert_exporter": "python",
   "pygments_lexer": "ipython3",
   "version": "3.12.4"
  }
 },
 "nbformat": 4,
 "nbformat_minor": 0
}
