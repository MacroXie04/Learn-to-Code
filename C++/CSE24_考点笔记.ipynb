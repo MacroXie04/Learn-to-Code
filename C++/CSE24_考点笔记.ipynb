{
    "cells": [
        {
            "cell_type": "markdown",
            "metadata": {},
            "source": [
                "# CSE 24 考点详细笔记\n\n",
                "本笔记涵盖 C++ 语言中面向对象编程、内存管理、指针使用、STL 容器、OpenGL 绘图的关键知识点，并提供可运行的代码示例。"
            ]
        },
        {
            "cell_type": "markdown",
            "metadata": {},
            "source": [
                "## 1. 对象的创建与内存管理\n",
                "### 栈上对象\n",
                "- **概念：** 栈上对象在局部作用域中声明，作用域结束时自动释放。\n",
                "- **示例代码（可运行）：**"
            ]
        },
        {
            "cell_type": "code",
            "metadata": {
                "language": "cpp"
            },
            "source": [
                "#include <iostream>\n",
                "using namespace std;\n",
                "\n",
                "class Point {\n",
                "public:\n",
                "    float x, y;\n",
                "    Point() : x(0), y(0) {}\n",
                "    void draw() { cout << \"Drawing Point at (\" << x << \", \" << y << \")\" << endl; }\n",
                "};\n",
                "\n",
                "int main() {\n",
                "    Point p; // 栈上对象\n",
                "    p.draw();\n",
                "    return 0;\n",
                "}"
            ]
        },
        {
            "cell_type": "markdown",
            "metadata": {},
            "source": [
                "### 堆上对象\n",
                "- **概念：** 堆上对象使用 `new` 运算符分配内存，需要手动释放。\n",
                "- **示例代码（可运行）：**"
            ]
        },
        {
            "cell_type": "code",
            "metadata": {
                "language": "cpp"
            },
            "source": [
                "#include <iostream>\n",
                "using namespace std;\n",
                "\n",
                "class Point {\n",
                "public:\n",
                "    float x, y;\n",
                "    Point(float x_val, float y_val) : x(x_val), y(y_val) {}\n",
                "    void draw() { cout << \"Drawing Point at (\" << x << \", \" << y << \")\" << endl; }\n",
                "};\n",
                "\n",
                "int main() {\n",
                "    Point* p = new Point(1.0, 2.0); // 堆上对象\n",
                "    p->draw();\n",
                "    delete p; // 释放内存\n",
                "    return 0;\n",
                "}"
            ]
        },
        {
            "cell_type": "markdown",
            "metadata": {},
            "source": [
                "### STL 容器与指针\n",
                "- **概念：** 使用 `std::vector` 存储指针时，必须手动释放元素的内存。\n",
                "- **示例代码（可运行）：**"
            ]
        },
        {
            "cell_type": "code",
            "metadata": {
                "language": "cpp"
            },
            "source": [
                "#include <iostream>\n",
                "#include <vector>\n",
                "using namespace std;\n",
                "\n",
                "class Point {\n",
                "public:\n",
                "    float x, y;\n",
                "    Point(float x, float y) : x(x), y(y) {}\n",
                "    void draw() { cout << \"Drawing Point at (\" << x << \", \" << y << \")\" << endl; }\n",
                "};\n",
                "\n",
                "int main() {\n",
                "    vector<Point*> points;\n",
                "    points.push_back(new Point(1.0, 2.0));\n",
                "    points.push_back(new Point(3.0, 4.0));\n",
                "\n",
                "    for (Point* p : points) {\n",
                "        p->draw();\n",
                "    }\n",
                "\n",
                "    for (Point* p : points) {\n",
                "        delete p;\n",
                "    }\n",
                "    points.clear();\n",
                "    return 0;\n",
                "}"
            ]
        },
        {
            "cell_type": "markdown",
            "metadata": {},
            "source": [
                "## 2. 构造函数与访问控制\n",
                "- **构造函数：** 允许多种方式初始化对象。\n",
                "- **示例代码（可运行）：**"
            ]
        },
        {
            "cell_type": "code",
            "metadata": {
                "language": "cpp"
            },
            "source": [
                "#include <iostream>\n",
                "using namespace std;\n",
                "\n",
                "class Point {\n",
                "private:\n",
                "    float x, y;\n",
                "public:\n",
                "    Point() : x(0), y(0) {}\n",
                "    Point(float x, float y) : x(x), y(y) {}\n",
                "    void draw() { cout << \"Drawing Point at (\" << x << \", \" << y << \")\" << endl; }\n",
                "};\n",
                "\n",
                "int main() {\n",
                "    Point p1;\n",
                "    Point p2(5.0, 6.0);\n",
                "    p1.draw();\n",
                "    p2.draw();\n",
                "    return 0;\n",
                "}"
            ]
        },
        {
            "cell_type": "markdown",
            "metadata": {},
            "source": [
                "## 3. `const` 关键字与 `this` 指针\n",
                "- **`const` 关键字：** 允许方法在不修改对象的情况下被调用。\n",
                "- **`this` 指针：** 解决参数名与成员变量名冲突。\n",
                "- **示例代码（可运行）：**"
            ]
        },
        {
            "cell_type": "code",
            "metadata": {
                "language": "cpp"
            },
            "source": [
                "#include <iostream>\n",
                "using namespace std;\n",
                "\n",
                "class Point {\n",
                "private:\n",
                "    float x, y;\n",
                "public:\n",
                "    Point(float x, float y) { this->x = x; this->y = y; }\n",
                "    void draw() const { cout << \"Drawing Point at (\" << x << \", \" << y << \")\" << endl; }\n",
                "};\n",
                "\n",
                "int main() {\n",
                "    const Point p(2.0, 3.0);\n",
                "    p.draw();\n",
                "    return 0;\n",
                "}"
            ]
        }
    ],
    "metadata": {
        "kernelspec": {
            "display_name": "C++",
            "language": "cpp",
            "name": "cpp"
        },
        "language_info": {
            "file_extension": ".cpp",
            "mimetype": "text/x-c++src",
            "name": "C++"
        }
    },
    "nbformat": 4,
    "nbformat_minor": 5
}